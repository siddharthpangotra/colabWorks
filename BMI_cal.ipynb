{
  "nbformat": 4,
  "nbformat_minor": 0,
  "metadata": {
    "colab": {
      "name": "BMI_cal.ipynb",
      "provenance": [],
      "authorship_tag": "ABX9TyPkvk3Yk+D7SjMLLdD3eInH",
      "include_colab_link": true
    },
    "kernelspec": {
      "name": "python3",
      "display_name": "Python 3"
    }
  },
  "cells": [
    {
      "cell_type": "markdown",
      "metadata": {
        "id": "view-in-github",
        "colab_type": "text"
      },
      "source": [
        "<a href=\"https://colab.research.google.com/github/siddharthpangotra/colabWorks/blob/master/BMI_cal.ipynb\" target=\"_parent\"><img src=\"https://colab.research.google.com/assets/colab-badge.svg\" alt=\"Open In Colab\"/></a>"
      ]
    },
    {
      "cell_type": "code",
      "metadata": {
        "id": "Vx9EwK-HQ97Y",
        "colab_type": "code",
        "colab": {}
      },
      "source": [
        ""
      ],
      "execution_count": 0,
      "outputs": []
    },
    {
      "cell_type": "markdown",
      "metadata": {
        "id": "MB34mC5uRQWH",
        "colab_type": "text"
      },
      "source": [
        "#BMI_Cal"
      ]
    },
    {
      "cell_type": "markdown",
      "metadata": {
        "id": "EtSGqWn0RXvD",
        "colab_type": "text"
      },
      "source": [
        "##Record weight"
      ]
    },
    {
      "cell_type": "code",
      "metadata": {
        "id": "k3eQeYPaRgI5",
        "colab_type": "code",
        "colab": {}
      },
      "source": [
        ""
      ],
      "execution_count": 0,
      "outputs": []
    }
  ]
}