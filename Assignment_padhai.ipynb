{
  "nbformat": 4,
  "nbformat_minor": 0,
  "metadata": {
    "colab": {
      "name": "Assignment_padhai.ipynb",
      "provenance": [],
      "collapsed_sections": [],
      "toc_visible": true,
      "authorship_tag": "ABX9TyOMrvk64wnMwS4oA0VYcmf7",
      "include_colab_link": true
    },
    "kernelspec": {
      "name": "python3",
      "display_name": "Python 3"
    }
  },
  "cells": [
    {
      "cell_type": "markdown",
      "metadata": {
        "id": "view-in-github",
        "colab_type": "text"
      },
      "source": [
        "<a href=\"https://colab.research.google.com/github/siddharthpangotra/colabWorks/blob/master/Assignment_padhai.ipynb\" target=\"_parent\"><img src=\"https://colab.research.google.com/assets/colab-badge.svg\" alt=\"Open In Colab\"/></a>"
      ]
    },
    {
      "cell_type": "markdown",
      "metadata": {
        "id": "qT65uufaJFXk",
        "colab_type": "text"
      },
      "source": [
        "#Assignment1"
      ]
    },
    {
      "cell_type": "markdown",
      "metadata": {
        "id": "MB34mC5uRQWH",
        "colab_type": "text"
      },
      "source": [
        "##BMI_Cal"
      ]
    },
    {
      "cell_type": "markdown",
      "metadata": {
        "id": "L9P6LTlZZ1mN",
        "colab_type": "text"
      },
      "source": [
        "### Convert height"
      ]
    },
    {
      "cell_type": "code",
      "metadata": {
        "id": "vO-4hZ_OcplG",
        "colab_type": "code",
        "outputId": "836e0299-e098-4cbe-c4f7-77ff3e2ff505",
        "colab": {
          "base_uri": "https://localhost:8080/",
          "height": 130
        }
      },
      "source": [
        "ht_mtr = 0\n",
        "bmi=0\n",
        "def convert(unit):\n",
        "    \n",
        "    if(unit==\"F\"):\n",
        "        ht_feet= int(input(\"Enter feets: \"))\n",
        "        ht_inch= int(input(\"Enter inches: \"))\n",
        "        ht_mtr= (ht_feet*12 + ht_inch)/39.37\n",
        "    else:\n",
        "        ht_mtr = input(\"Enter height in meters\")\n",
        "\n",
        "    return ht_mtr\n",
        "\n",
        "def cal_bmi(wt,ht):\n",
        "    bmi = wt/ht\n",
        "    return bmi\n",
        "\n",
        "\n",
        "\n"
      ],
      "execution_count": 0,
      "outputs": [
        {
          "output_type": "error",
          "ename": "SyntaxError",
          "evalue": "ignored",
          "traceback": [
            "\u001b[0;36m  File \u001b[0;32m\"<ipython-input-17-eafe5303784a>\"\u001b[0;36m, line \u001b[0;32m23\u001b[0m\n\u001b[0;31m    else if(bmi>18.5 && bmi <25):\u001b[0m\n\u001b[0m          ^\u001b[0m\n\u001b[0;31mSyntaxError\u001b[0m\u001b[0;31m:\u001b[0m invalid syntax\n"
          ]
        }
      ]
    },
    {
      "cell_type": "markdown",
      "metadata": {
        "id": "XCBH2BrRY1aV",
        "colab_type": "text"
      },
      "source": [
        "###Return BMI"
      ]
    },
    {
      "cell_type": "code",
      "metadata": {
        "id": "0xP6sXemZABA",
        "colab_type": "code",
        "colab": {}
      },
      "source": [
        "report=\"invalid data\"\n",
        "def bmi_report(wt,ht):\n",
        "\n",
        "    bmi = float(wt)/float(ht**2)\n",
        "    \n",
        "    #print(bmi)\n",
        "\n",
        "    if bmi<18.5:\n",
        "        report= \"underweight\"\n",
        "    \n",
        "    elif (bmi>18.5 and bmi<25):\n",
        "        report= \"Fit\"\n",
        "    \n",
        "    else:\n",
        "        report= \"obese\"\n",
        "\n",
        "    return report\n",
        "\n"
      ],
      "execution_count": 0,
      "outputs": []
    },
    {
      "cell_type": "markdown",
      "metadata": {
        "id": "LXQ0u4ZWBR61",
        "colab_type": "text"
      },
      "source": [
        "###Record Weight and Height"
      ]
    },
    {
      "cell_type": "code",
      "metadata": {
        "id": "8V4FKu-LBZgc",
        "colab_type": "code",
        "outputId": "dfaf849d-bbba-458d-9a42-1d7e63db0d05",
        "colab": {
          "base_uri": "https://localhost:8080/",
          "height": 170
        }
      },
      "source": [
        "weight= input(\"Enter weight(KG): \")\n",
        "ht_unit= input(\"Choose preferred unit of height (for Ft,Inches - F or Mtr - M \")\n",
        "height= convert(ht_unit)\n",
        "print(\"Weight: \"+ str(weight) +\" \\nHeight: \"+ str(height))\n",
        "bmi_rep = bmi_report(weight,height)\n",
        "print(bmi_report(weight,height))"
      ],
      "execution_count": 0,
      "outputs": [
        {
          "output_type": "stream",
          "text": [
            "Enter weight(KG): 66\n",
            "Choose preferred unit of height (for Ft,Inches - F or Mtr - M F\n",
            "Enter feets: 5\n",
            "Enter inches: 8\n",
            "Weight: 66 \n",
            "Height: 1.727203454406909\n",
            "<class 'float'>\n",
            "<class 'float'>\n",
            "Fit\n"
          ],
          "name": "stdout"
        }
      ]
    },
    {
      "cell_type": "code",
      "metadata": {
        "id": "fraB5M0EExU4",
        "colab_type": "code",
        "outputId": "3bc8f101-cb1f-43a3-881d-6d8f073ca2d0",
        "colab": {
          "base_uri": "https://localhost:8080/",
          "height": 164
        }
      },
      "source": [
        "bmi_report(5,7)"
      ],
      "execution_count": 0,
      "outputs": [
        {
          "output_type": "error",
          "ename": "NameError",
          "evalue": "ignored",
          "traceback": [
            "\u001b[0;31m---------------------------------------------------------------------------\u001b[0m",
            "\u001b[0;31mNameError\u001b[0m                                 Traceback (most recent call last)",
            "\u001b[0;32m<ipython-input-24-902446fd25c1>\u001b[0m in \u001b[0;36m<module>\u001b[0;34m()\u001b[0m\n\u001b[0;32m----> 1\u001b[0;31m \u001b[0mbmi_report\u001b[0m\u001b[0;34m(\u001b[0m\u001b[0;36m5\u001b[0m\u001b[0;34m,\u001b[0m\u001b[0;36m7\u001b[0m\u001b[0;34m)\u001b[0m\u001b[0;34m\u001b[0m\u001b[0;34m\u001b[0m\u001b[0m\n\u001b[0m",
            "\u001b[0;31mNameError\u001b[0m: name 'bmi_report' is not defined"
          ]
        }
      ]
    },
    {
      "cell_type": "code",
      "metadata": {
        "id": "YcrdTcBJb-6e",
        "colab_type": "code",
        "colab": {}
      },
      "source": [
        ""
      ],
      "execution_count": 0,
      "outputs": []
    },
    {
      "cell_type": "markdown",
      "metadata": {
        "id": "MWeBvR30JMfr",
        "colab_type": "text"
      },
      "source": [
        "#Assignment2"
      ]
    },
    {
      "cell_type": "markdown",
      "metadata": {
        "id": "GXDG96IcJpcR",
        "colab_type": "text"
      },
      "source": [
        "##Iterative fxn for factorial"
      ]
    },
    {
      "cell_type": "code",
      "metadata": {
        "id": "dOWZb4aKJpAZ",
        "colab_type": "code",
        "colab": {}
      },
      "source": [
        "def factorial(num):\n",
        "    temp=1\n",
        "    while num > 1:\n",
        "        temp*=num\n",
        "        num-=1\n",
        "    return temp\n"
      ],
      "execution_count": 0,
      "outputs": []
    },
    {
      "cell_type": "code",
      "metadata": {
        "id": "CtayuH8ON7OE",
        "colab_type": "code",
        "colab": {
          "base_uri": "https://localhost:8080/",
          "height": 34
        },
        "outputId": "ad51c8ec-f1c9-4101-c699-75093299e6a4"
      },
      "source": [
        "print(factorial(5))"
      ],
      "execution_count": 11,
      "outputs": [
        {
          "output_type": "stream",
          "text": [
            "120\n"
          ],
          "name": "stdout"
        }
      ]
    },
    {
      "cell_type": "markdown",
      "metadata": {
        "id": "PWlFZ8irQKmF",
        "colab_type": "text"
      },
      "source": [
        "##Factorial Using Recursion"
      ]
    },
    {
      "cell_type": "code",
      "metadata": {
        "id": "E2ulOCE3OCel",
        "colab_type": "code",
        "colab": {}
      },
      "source": [
        "def fact_recursion(num):\n",
        "    if num > 1:\n",
        "        print(num)\n",
        "        return num * fact_recursion(num-1)\n",
        "    else:\n",
        "        return num\n"
      ],
      "execution_count": 0,
      "outputs": []
    },
    {
      "cell_type": "code",
      "metadata": {
        "id": "7T18wBi5UK8E",
        "colab_type": "code",
        "colab": {
          "base_uri": "https://localhost:8080/",
          "height": 34
        },
        "outputId": "aaffc2ae-8093-49ef-dada-4b92b3b13389"
      },
      "source": [
        "print(fact_recursion(6))"
      ],
      "execution_count": 23,
      "outputs": [
        {
          "output_type": "stream",
          "text": [
            "720\n"
          ],
          "name": "stdout"
        }
      ]
    },
    {
      "cell_type": "code",
      "metadata": {
        "id": "V64yaHuKUTCR",
        "colab_type": "code",
        "colab": {}
      },
      "source": [
        ""
      ],
      "execution_count": 0,
      "outputs": []
    },
    {
      "cell_type": "markdown",
      "metadata": {
        "id": "vXMjxiYHXMAK",
        "colab_type": "text"
      },
      "source": [
        "## Solve F(x,N) = 1+ E 1 to N (x to power n)/n! \n"
      ]
    },
    {
      "cell_type": "code",
      "metadata": {
        "id": "yw42xiM-XbFC",
        "colab_type": "code",
        "colab": {}
      },
      "source": [
        " def solveFxn(x, n):\n",
        "    temp = 0\n",
        "    while n > 0:\n",
        "        temp = temp+ (x**n/factorial(n))\n",
        "        n-=1\n",
        "    temp=temp+1\n",
        "    return temp\n"
      ],
      "execution_count": 0,
      "outputs": []
    },
    {
      "cell_type": "code",
      "metadata": {
        "id": "teQyY9Jgivp8",
        "colab_type": "code",
        "colab": {
          "base_uri": "https://localhost:8080/",
          "height": 34
        },
        "outputId": "af707293-542c-4704-ffc4-94ed4b3537d5"
      },
      "source": [
        "temp= solveFxn(3,2)\n",
        "print(temp)"
      ],
      "execution_count": 11,
      "outputs": [
        {
          "output_type": "stream",
          "text": [
            "8.5\n"
          ],
          "name": "stdout"
        }
      ]
    },
    {
      "cell_type": "markdown",
      "metadata": {
        "id": "YbMWFCzjutVW",
        "colab_type": "text"
      },
      "source": [
        "##Compute V1 - V2 \n",
        "where V1 = F(p,100)*F(q,100) and V2 = F(p+q, 100)"
      ]
    },
    {
      "cell_type": "code",
      "metadata": {
        "id": "YoiaBBJPvkBI",
        "colab_type": "code",
        "colab": {}
      },
      "source": [
        "def computeDiff(p,q):\n",
        "    v1= solveFxn(p,100)*solveFxn(q,100)\n",
        "    v2= solveFxn(p+q,100)\n",
        "    print(v1)\n",
        "    print(v2)\n",
        "\n",
        "    return round(v1,3) - round(v2,3)"
      ],
      "execution_count": 0,
      "outputs": []
    },
    {
      "cell_type": "code",
      "metadata": {
        "id": "l6h3l_qmxeXd",
        "colab_type": "code",
        "colab": {
          "base_uri": "https://localhost:8080/",
          "height": 68
        },
        "outputId": "c707bfcd-16f3-4d78-9442-d23d2a25dcbc"
      },
      "source": [
        "temp = computeDiff(2,2)\n",
        "print(temp)"
      ],
      "execution_count": 30,
      "outputs": [
        {
          "output_type": "stream",
          "text": [
            "54.59815003314424\n",
            "54.598150033144236\n",
            "0.0\n"
          ],
          "name": "stdout"
        }
      ]
    },
    {
      "cell_type": "code",
      "metadata": {
        "id": "0dSHE71Nxq0L",
        "colab_type": "code",
        "colab": {}
      },
      "source": [
        ""
      ],
      "execution_count": 0,
      "outputs": []
    }
  ]
}