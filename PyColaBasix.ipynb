{
  "nbformat": 4,
  "nbformat_minor": 0,
  "metadata": {
    "colab": {
      "name": "Untitled0.ipynb",
      "provenance": [],
      "authorship_tag": "ABX9TyP6UxwV9N1p+AZ+uwrq009g",
      "include_colab_link": true
    },
    "kernelspec": {
      "name": "python3",
      "display_name": "Python 3"
    }
  },
  "cells": [
    {
      "cell_type": "markdown",
      "metadata": {
        "id": "view-in-github",
        "colab_type": "text"
      },
      "source": [
        "<a href=\"https://colab.research.google.com/github/siddharthpangotra/colabWorks/blob/master/PyColaBasix.ipynb\" target=\"_parent\"><img src=\"https://colab.research.google.com/assets/colab-badge.svg\" alt=\"Open In Colab\"/></a>"
      ]
    },
    {
      "cell_type": "markdown",
      "metadata": {
        "id": "nc2jRZxFPrLl",
        "colab_type": "text"
      },
      "source": [
        ""
      ]
    },
    {
      "cell_type": "code",
      "metadata": {
        "id": "rhwewJ9SxijF",
        "colab_type": "code",
        "outputId": "90bb0f18-5e17-40d4-8272-c1fa0055003d",
        "colab": {
          "base_uri": "https://localhost:8080/",
          "height": 34
        }
      },
      "source": [
        "print(\"HI Sid\")"
      ],
      "execution_count": 0,
      "outputs": [
        {
          "output_type": "stream",
          "text": [
            "HI Sid\n"
          ],
          "name": "stdout"
        }
      ]
    },
    {
      "cell_type": "code",
      "metadata": {
        "id": "Rayzm3TX09l0",
        "colab_type": "code",
        "outputId": "2d29c303-be9c-476f-bcf2-a1e4bb630195",
        "colab": {
          "base_uri": "https://localhost:8080/",
          "height": 51
        }
      },
      "source": [
        "print(\"go\"+ \" ahead\")\n",
        "print(\"17\"+\" Feb\")"
      ],
      "execution_count": 0,
      "outputs": [
        {
          "output_type": "stream",
          "text": [
            "go ahead\n",
            "17 Feb\n"
          ],
          "name": "stdout"
        }
      ]
    },
    {
      "cell_type": "code",
      "metadata": {
        "id": "FoxzbHTa2UCO",
        "colab_type": "code",
        "outputId": "7d44b7b0-0d4b-415b-e613-e0e82817df99",
        "colab": {
          "base_uri": "https://localhost:8080/",
          "height": 34
        }
      },
      "source": [
        "print(True and False) # and two operands"
      ],
      "execution_count": 0,
      "outputs": [
        {
          "output_type": "stream",
          "text": [
            "False\n"
          ],
          "name": "stdout"
        }
      ]
    },
    {
      "cell_type": "code",
      "metadata": {
        "id": "kuDh-WrXPYDH",
        "colab_type": "code",
        "colab": {}
      },
      "source": [
        "# Variables\n"
      ],
      "execution_count": 0,
      "outputs": []
    },
    {
      "cell_type": "markdown",
      "metadata": {
        "id": "G2ifLm-_P4qf",
        "colab_type": "text"
      },
      "source": [
        "# Variables and Inputs"
      ]
    },
    {
      "cell_type": "code",
      "metadata": {
        "id": "DITXtqyoPhEP",
        "colab_type": "code",
        "outputId": "a7ce9a5a-af5c-47b6-9e5a-98518a56d3f3",
        "colab": {
          "base_uri": "https://localhost:8080/",
          "height": 51
        }
      },
      "source": [
        "school = \"BITS\"\n",
        "another_school = \"BITS\"\n",
        "#print(type(school))\n",
        "print(id(another_school))\n",
        "print(\"I am studying at \"+another_school)\n"
      ],
      "execution_count": 0,
      "outputs": [
        {
          "output_type": "stream",
          "text": [
            "140481737043168\n",
            "I am studying at BITS\n"
          ],
          "name": "stdout"
        }
      ]
    },
    {
      "cell_type": "code",
      "metadata": {
        "id": "N3HUpMhVYvb2",
        "colab_type": "code",
        "outputId": "edc965c5-6a60-4f57-a195-33a5727a3702",
        "colab": {
          "base_uri": "https://localhost:8080/",
          "height": 102
        }
      },
      "source": [
        "fees_for_Sem_one = input(\"what is the fees for sem1 \")\n",
        "fees_for_Sem_two = input(\"what is the fees for sem2 \")\n",
        "fees_for_Sem_three = input(\"what is the fees for sem3 \")\n",
        "fees_for_Sem_four = input(\"what is the fees for sem4 \")\n",
        "total_fees = int(fees_for_Sem_one) + int(fees_for_Sem_two) + int(fees_for_Sem_three) + int(fees_for_Sem_four)\n",
        "print(total_fees)\n",
        "\n"
      ],
      "execution_count": 9,
      "outputs": [
        {
          "output_type": "stream",
          "text": [
            "what is the fees for sem1 10\n",
            "what is the fees for sem2 20\n",
            "what is the fees for sem3 30\n",
            "what is the fees for sem4 40\n",
            "100\n"
          ],
          "name": "stdout"
        }
      ]
    },
    {
      "cell_type": "code",
      "metadata": {
        "id": "q3g6bJ-oeBIZ",
        "colab_type": "code",
        "colab": {
          "base_uri": "https://localhost:8080/",
          "height": 34
        },
        "outputId": "c4e1e3e8-4597-4a58-cad8-4a204a25ed29"
      },
      "source": [
        "new_Fees= float(total_fees)+ 0.2*float(total_fees)\n",
        "print(\"Total fees for the entire course is: \"+ str(new_Fees))"
      ],
      "execution_count": 13,
      "outputs": [
        {
          "output_type": "stream",
          "text": [
            "Total fees for the entire course is: 120.0\n"
          ],
          "name": "stdout"
        }
      ]
    },
    {
      "cell_type": "code",
      "metadata": {
        "id": "B2D8ayxLxj4-",
        "colab_type": "code",
        "colab": {}
      },
      "source": [
        ""
      ],
      "execution_count": 0,
      "outputs": []
    }
  ]
}